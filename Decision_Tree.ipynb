{
  "nbformat": 4,
  "nbformat_minor": 0,
  "metadata": {
    "colab": {
      "provenance": []
    },
    "kernelspec": {
      "name": "python3",
      "display_name": "Python 3"
    },
    "language_info": {
      "name": "python"
    }
  },
  "cells": [
    {
      "cell_type": "markdown",
      "source": [
        "**Theoretical**"
      ],
      "metadata": {
        "id": "UDvZfsw_AqMb"
      }
    },
    {
      "cell_type": "markdown",
      "source": [
        "1. What is a Decision Tree, and how does it work?  \n",
        "   A Decision Tree is a supervised machine learning algorithm used for both classification and regression tasks. It models decisions and their possible consequences as a tree-like structure with nodes (tests on features), branches (outcomes of the tests), and leaves (final predictions).  \n",
        "  How Does It Work---  \n",
        "  1. Start at the Root Node: The tree begins at the root, which represents the entire dataset.  \n",
        "  2. Choose the Best Feature to Split: The algorithm chooses the feature that best separates the data.  \n",
        "  3. Split the Data: The dataset is split into subsets based on the selected feature and its value(s).  \n",
        "  4. Repeat Recursively:For each child node, repeat the process of choosing the best feature and splitting.  \n",
        "  5. Create Leaf Nodes: Once a node cannot be split further, it's turned into a leaf, which contains the final output (class label for classification or average value for regression).\n",
        "\n"
      ],
      "metadata": {
        "id": "HNTkoI-zAqI4"
      }
    },
    {
      "cell_type": "markdown",
      "source": [
        "2. What are impurity measures in Decision Trees?  \n",
        "   Impurity measures are metrics used to evaluate the \"purity\" or \"homogeneity\" of a dataset at a given node in a Decision Tree. They help the algorithm decide which feature and threshold to split on at each step.  \n",
        "   A node is considered:  \n",
        "   -Pure if all data points belong to the same class.  \n",
        "   -Impure if data points are from different classes.\n",
        "  The goal of the tree is to reduce impurity with every split.\n",
        "\n",
        ""
      ],
      "metadata": {
        "id": "Ztz3SGg-AqGu"
      }
    },
    {
      "cell_type": "markdown",
      "source": [
        "3. What is the mathematical formula for Gini Impurity?  \n",
        "   The Gini Impurity is used to measure how often a randomly chosen element from the dataset would be incorrectly labeled if it was randomly labeled according to the class distribution in that node.  \n",
        "\n",
        "   Gini(t)=1−\n",
        "i=1\n",
        "∑\n",
        "C\n",
        "​\n",
        " p\n",
        "i\n",
        "2\n",
        "​\n",
        "   \n",
        "   where-\n",
        "t = the current node  \n",
        "C = total number of classes  \n",
        "p\n",
        "i\n",
        "​\n",
        "  = proportion of samples belonging to class i at node t\n",
        "\n",
        "\n"
      ],
      "metadata": {
        "id": "OwQdQOMaAqFK"
      }
    },
    {
      "cell_type": "markdown",
      "source": [
        "4. What is the mathematical formula for Entropy?  \n",
        "   Entropy is a measure of impurity or disorder in a dataset. In the context of decision trees, it's used to determine how mixed the class labels are at a particular node.\n",
        "   \n",
        "   Entropy(t)=\n",
        "i=1\n",
        "∑\n",
        "C\n",
        " p\n",
        "i\n",
        " log\n",
        "2(pi)  \n",
        "Where:t = current node\n",
        "C = number of classes\n",
        "pi = proportion of instances belonging to class i at node t\n",
        "\n"
      ],
      "metadata": {
        "id": "quI3bDSOAqDN"
      }
    },
    {
      "cell_type": "markdown",
      "source": [
        "5. What is Information Gain, and how is it used in Decision Trees\t  \n",
        "   Information Gain (IG) measures the reduction in entropy after a dataset is split on a feature. It tells us how much \"information\" a feature gives us about the target class.  \n",
        "   In simple terms:  \n",
        "   Information Gain = Entropy before split − Weighted entropy after split  \n",
        "\n",
        "   The higher the information gain, the better the feature separates the classes — so it's preferred for splitting nodes in a Decision Tree (especially in algorithms like ID3)."
      ],
      "metadata": {
        "id": "kI2FNOomAqAk"
      }
    },
    {
      "cell_type": "markdown",
      "source": [
        "6. What is the difference between Gini Impurity and Entropy?  \n",
        "   Gini Impurity is a measure used in decision trees to determine how often a randomly chosen element would be incorrectly classified. The formula for Gini is\n",
        "1\n",
        "−\n",
        "∑\n",
        "𝑝\n",
        "𝑖\n",
        "2\n",
        "1−∑p\n",
        "i\n",
        "2\n",
        "​\n",
        " , where\n",
        "𝑝\n",
        "𝑖\n",
        "p\n",
        "i\n",
        "​\n",
        "  is the proportion of samples belonging to class\n",
        "𝑖\n",
        "i at a node. It reflects the probability of misclassification. A Gini score of 0 means the node is pure (all samples belong to one class), while a higher value indicates more impurity. Gini is computationally faster than entropy since it doesn’t require logarithmic calculations. It’s commonly used in the CART (Classification and Regression Trees) algorithm and tends to favor features that create larger and more distinct splits.  \n",
        "\n",
        "Entropy is another impurity measure used in decision trees, particularly in algorithms like ID3 and C4.5. It measures the amount of disorder or uncertainty in a node. The formula is\n",
        "−\n",
        "∑\n",
        "𝑝\n",
        "𝑖\n",
        "log\n",
        "⁡\n",
        "2\n",
        "(\n",
        "𝑝\n",
        "𝑖\n",
        ")\n",
        "−∑p\n",
        "i\n",
        "​\n",
        " log\n",
        "2\n",
        "​\n",
        " (p\n",
        "i\n",
        "​\n",
        " ), where\n",
        "𝑝\n",
        "𝑖\n",
        "p\n",
        "i\n",
        "​\n",
        "  is the probability of class\n",
        "𝑖\n",
        "i.   \n",
        "   Entropy is 0 when the node is pure and reaches its maximum when all classes are equally represented. It's used to calculate Information Gain, which is the reduction in entropy after a dataset is split. While entropy can provide a more nuanced view of impurity, it is computationally more expensive due to the logarithmic operations and is more sensitive to class imbalances.\n",
        "\n"
      ],
      "metadata": {
        "id": "BCn58MrFAp-p"
      }
    },
    {
      "cell_type": "markdown",
      "source": [
        "7. What is the mathematical explanation behind Decision Trees?  \n",
        "   A Decision Tree is a recursive partitioning algorithm that splits data based on feature values to build a tree-like structure for decision making. The goal is to split the dataset into subsets that are as pure as possible using a mathematical impurity measure such as Gini Impurity, Entropy, or Mean Squared Error (MSE).  \n",
        "   1. Splitting Criterion: At each node, the algorithm selects the best feature and threshold to split the dataset\n",
        "𝐷\n",
        "D into two subsets\n",
        "𝐷\n",
        "left\n",
        "D\n",
        "left\n",
        "​\n",
        "  and\n",
        "𝐷\n",
        "right\n",
        "D\n",
        "right\n",
        "​\n",
        "  that maximize information gain or minimize impurity.  \n",
        "  2.  Recursive Partitioning: The process is repeated for each child node, creating further splits. This recursion continues until one of the stopping conditions is met.  \n",
        "  3. Leaf Nodes and Prediction: Once a node can no longer be split:  \n",
        "    -For classification, the node predicts the majority class.  \n",
        "    -For regression, the node predicts the mean of the target variable.  \n",
        "  4. Loss Functions: Classification: Impurity measures like Gini or Entropy act as loss functions to be minimized.  \n",
        "  Regression: Use MSE or MAE as the objective  "
      ],
      "metadata": {
        "id": "oeUXR7O-Ap8j"
      }
    },
    {
      "cell_type": "markdown",
      "source": [
        "8. What is Pre-Pruning in Decision Trees?  \n",
        "  Pre-pruning (also called early stopping) is a technique used to prevent a decision tree from growing too deep or too complex by stopping the tree-building process early, before it perfectly fits the training data.\n",
        "  It aims to avoid overfitting, where the model learns noise instead of patterns, and helps improve generalization to unseen data.  \n",
        "  Decision trees are greedy — they keep splitting the data until:  \n",
        "  All samples in a node are pure  \n",
        "  Or no features remain"
      ],
      "metadata": {
        "id": "5AqBBZgOAp6U"
      }
    },
    {
      "cell_type": "markdown",
      "source": [
        "9. What is Post-Pruning in Decision Trees?  \n",
        "   Post-pruning (also known as cost-complexity pruning or reduced-error pruning) is a technique where a fully grown decision tree is pruned back after it has been trained, to remove branches that do not improve model performance on validation data.\n",
        "   It helps simplify the model, reduce overfitting, and improve its ability to generalize to new data.  \n",
        "\n",
        "   A fully grown decision tree often overfits by memorizing the training data. Post-pruning combats this by:  \n",
        "   Growing the full tree first  \n",
        "   Then removing parts (subtrees or branches) that have little predictive power\n",
        "\n"
      ],
      "metadata": {
        "id": "XJEe3PXNAp4K"
      }
    },
    {
      "cell_type": "markdown",
      "source": [
        "10. What is the difference between Pre-Pruning and Post-Pruning?  \n",
        "   Pre-pruning, also known as early stopping, is a technique in decision trees where the tree-building process is halted before it becomes too deep or complex. It prevents overfitting by applying constraints during the growth of the tree, such as limiting the maximum depth, requiring a minimum number of samples to split a node, or ensuring a minimum reduction in impurity. Since pre-pruning stops the tree from growing too large right from the beginning, it tends to be faster and more efficient. However, the downside is that it might stop the tree too early, leading to underfitting and missed patterns in the data.  \n",
        "\n",
        "   post-pruning involves first allowing the decision tree to grow fully, potentially to the point of overfitting, and then trimming back the parts of the tree that do not contribute significantly to the model's accuracy. This is usually done by evaluating the impact of each branch on a validation set and removing those that do not improve or actually hurt generalization performance. Post-pruning tends to be more accurate because it makes decisions based on the complete structure of the tree, but it is also more computationally expensive and often requires a separate validation dataset."
      ],
      "metadata": {
        "id": "OA7g1MirAp1-"
      }
    },
    {
      "cell_type": "markdown",
      "source": [
        "11. What is a Decision Tree Regressor?  \n",
        "    A Decision Tree Regressor is a type of supervised learning algorithm used for regression tasks, where the goal is to predict a continuous numeric value rather than a class label.  \n",
        "    Just like in classification, a decision tree regressor works by splitting the dataset into smaller and smaller subsets based on feature values — but instead of assigning class labels at the leaves, it assigns the average target value of the samples in that node.\n",
        "\n"
      ],
      "metadata": {
        "id": "sB4-7CAaApz7"
      }
    },
    {
      "cell_type": "markdown",
      "source": [
        "12. What are the advantages and disadvantages of Decision Trees?  \n",
        "   Advantages of Decision Trees:  Decision trees are widely appreciated for their simplicity and interpretability. They closely resemble human decision-making, making the model’s logic easy to understand and explain, even to non-technical stakeholders. A key advantage is that they require minimal data preprocessing — they can handle both categorical and numerical data without needing normalization or encoding. Decision trees also automatically perform feature selection by choosing the most informative features at each split, and they are capable of capturing non-linear relationships within the data.  \n",
        "\n",
        "   Disadvantages of Decision Trees: Despite their strengths, decision trees have several limitations. One of the biggest issues is their tendency to overfit the training data, especially when the tree is allowed to grow without constraints. This can lead to poor performance on new, unseen data. Another drawback is their instability — small changes in the data can lead to significant changes in the tree structure due to the greedy nature of how splits are chosen. Decision trees also tend to perform poorly on imbalanced datasets, as they may favor the majority class. In regression tasks, their predictions are piecewise constant, which can result in a lack of smoothness and lower accuracy. Additionally, although decision trees are useful as standalone models, they often underperform compared to ensemble methods like Random Forests and Gradient Boosting, especially on complex or high-dimensional datasets.\n",
        "\n"
      ],
      "metadata": {
        "id": "uhXsbZfyApx2"
      }
    },
    {
      "cell_type": "markdown",
      "source": [
        "13. How does a Decision Tree handle missing values?  \n",
        "    Decision Trees can handle missing values in a few different ways, depending on the algorithm and implementation. While some libraries like scikit-learn require that missing values be handled before training, other advanced implementations (like XGBoost or C4.5) can natively deal with missing data during the training and prediction process.    \n",
        "    1. Skipping or Ignoring Missing Values (Preprocessing)   \n",
        "    2. Surrogate Splits (Used in CART, C4.5, etc.)  \n",
        "    3. Default Directions (Used in XGBoost, LightGBM, etc.)\n",
        "\n"
      ],
      "metadata": {
        "id": "NhV1X7ImApvm"
      }
    },
    {
      "cell_type": "markdown",
      "source": [
        "14. How does a Decision Tree handle categorical features?  \n",
        "    Decision Trees are naturally capable of handling categorical features, though how they do so depends on the algorithm and implementation (e.g., CART, ID3, C4.5) and the library being used (e.g., scikit-learn, XGBoost, LightGBM).  \n",
        "\n",
        "    1. In Theory (Algorithmically)= Decision trees split data by selecting a feature and determining the best way to partition its values. For categorical features, this means finding the best subset(s) of categories that best separate the target variable.  \n",
        "    2. In Practice (Library-Dependent)----  \n",
        "       a) scikit-learn (CART-based)= Does not natively support categorical variables.  \n",
        "       You need to convert categories into numbers using One-Hot Encoding, Ordinal Encoding   \n",
        "       b)ID3, C4.5 (e.g., in Weka, older algorithms)= Can handle categorical features directly by performing multi-way splits — i.e., one branch for each category.  \n",
        "       c) XGBoost / LightGBM= LightGBM supports categorical features natively by passing column types.  \n",
        "       XGBoost (recent versions) also allows specifying categorical columns using special encoding.   "
      ],
      "metadata": {
        "id": "azDN5D86Apth"
      }
    },
    {
      "cell_type": "markdown",
      "source": [
        "15. What are some real-world applications of Decision Trees?  \n",
        "   Decision Trees are widely used in various industries due to their simplicity, interpretability, and ability to handle both classification and regression tasks. Below are some common real-world applications where decision trees play an important role:  \n",
        "  \n",
        "  Healthcare and Medical Diagnosis  \n",
        "  Finance and Credit Scoring  \n",
        "  Retail and E-Commerce  \n",
        "  Manufacturing and Quality Control  \n",
        "  Agriculture  \n",
        "  Education and Student Performance\n",
        "\n"
      ],
      "metadata": {
        "id": "Y16WImFaAprc"
      }
    },
    {
      "cell_type": "markdown",
      "source": [
        "**Practical**"
      ],
      "metadata": {
        "id": "jMfDFTr_AppX"
      }
    },
    {
      "cell_type": "code",
      "source": [
        "#16 Write a Python program to train a Decision Tree Classifier on the Iris dataset and print the model accuracy\n",
        "# Import necessary libraries\n",
        "from sklearn.datasets import load_iris\n",
        "from sklearn.tree import DecisionTreeClassifier\n",
        "from sklearn.model_selection import train_test_split\n",
        "from sklearn.metrics import accuracy_score\n",
        "\n",
        "# Load the Iris dataset\n",
        "iris = load_iris()\n",
        "X = iris.data       # Features\n",
        "y = iris.target     # Target labels\n",
        "\n",
        "# Split the dataset into training and testing sets (80% train, 20% test)\n",
        "X_train, X_test, y_train, y_test = train_test_split(X, y, test_size=0.2, random_state=42)\n",
        "\n",
        "# Initialize the Decision Tree Classifier\n",
        "clf = DecisionTreeClassifier(random_state=42)\n",
        "\n",
        "# Train the model\n",
        "clf.fit(X_train, y_train)\n",
        "\n",
        "# Predict on the test data\n",
        "y_pred = clf.predict(X_test)\n",
        "\n",
        "# Calculate and print accuracy\n",
        "accuracy = accuracy_score(y_test, y_pred)\n",
        "print(f\"Decision Tree Accuracy on Iris Dataset: {accuracy:.2f}\")"
      ],
      "metadata": {
        "colab": {
          "base_uri": "https://localhost:8080/"
        },
        "id": "0DjzEWpQIPyb",
        "outputId": "c5dca192-390f-4382-ff9d-1e7c43924432"
      },
      "execution_count": 1,
      "outputs": [
        {
          "output_type": "stream",
          "name": "stdout",
          "text": [
            "Decision Tree Accuracy on Iris Dataset: 1.00\n"
          ]
        }
      ]
    },
    {
      "cell_type": "code",
      "execution_count": 2,
      "metadata": {
        "colab": {
          "base_uri": "https://localhost:8080/"
        },
        "id": "QVPE1HQmAoES",
        "outputId": "886511ed-add5-48a5-9bd5-c705c5d94cd4"
      },
      "outputs": [
        {
          "output_type": "stream",
          "name": "stdout",
          "text": [
            "Feature Importances using Gini Impurity:\n",
            "\n",
            "sepal length (cm): 0.0000\n",
            "sepal width (cm): 0.0167\n",
            "petal length (cm): 0.9061\n",
            "petal width (cm): 0.0772\n"
          ]
        }
      ],
      "source": [
        "#17 Write a Python program to train a Decision Tree Classifier using Gini Impurity as the criterion and print the feature importances\n",
        "# Import necessary libraries\n",
        "from sklearn.datasets import load_iris\n",
        "from sklearn.tree import DecisionTreeClassifier\n",
        "from sklearn.model_selection import train_test_split\n",
        "\n",
        "# Load the Iris dataset\n",
        "iris = load_iris()\n",
        "X = iris.data\n",
        "y = iris.target\n",
        "feature_names = iris.feature_names\n",
        "\n",
        "# Split the data into train and test sets\n",
        "X_train, X_test, y_train, y_test = train_test_split(X, y, test_size=0.2, random_state=42)\n",
        "\n",
        "# Create the Decision Tree Classifier using Gini Impurity\n",
        "clf = DecisionTreeClassifier(criterion='gini', random_state=42)\n",
        "\n",
        "# Train the model\n",
        "clf.fit(X_train, y_train)\n",
        "\n",
        "# Print feature importances\n",
        "importances = clf.feature_importances_\n",
        "print(\"Feature Importances using Gini Impurity:\\n\")\n",
        "for name, importance in zip(feature_names, importances):\n",
        "    print(f\"{name}: {importance:.4f}\")"
      ]
    },
    {
      "cell_type": "code",
      "source": [
        "#18 Write a Python program to train a Decision Tree Classifier using Entropy as the splitting criterion and print the model accuracy\n",
        "# Import necessary libraries\n",
        "from sklearn.datasets import load_iris\n",
        "from sklearn.tree import DecisionTreeClassifier\n",
        "from sklearn.model_selection import train_test_split\n",
        "from sklearn.metrics import accuracy_score\n",
        "\n",
        "# Load the Iris dataset\n",
        "iris = load_iris()\n",
        "X = iris.data\n",
        "y = iris.target\n",
        "\n",
        "# Split the dataset into training and testing sets (80% train, 20% test)\n",
        "X_train, X_test, y_train, y_test = train_test_split(X, y, test_size=0.2, random_state=42)\n",
        "\n",
        "# Initialize the Decision Tree Classifier using 'entropy' criterion\n",
        "clf = DecisionTreeClassifier(criterion='entropy', random_state=42)\n",
        "\n",
        "# Train the model\n",
        "clf.fit(X_train, y_train)\n",
        "\n",
        "# Make predictions on the test set\n",
        "y_pred = clf.predict(X_test)\n",
        "\n",
        "# Calculate and print model accuracy\n",
        "accuracy = accuracy_score(y_test, y_pred)\n",
        "print(f\"Decision Tree Accuracy using Entropy: {accuracy:.2f}\")"
      ],
      "metadata": {
        "colab": {
          "base_uri": "https://localhost:8080/"
        },
        "id": "D3uQoZ6lIgaD",
        "outputId": "87bd617f-15f0-4d70-8ea3-1cb06684cd39"
      },
      "execution_count": 3,
      "outputs": [
        {
          "output_type": "stream",
          "name": "stdout",
          "text": [
            "Decision Tree Accuracy using Entropy: 1.00\n"
          ]
        }
      ]
    },
    {
      "cell_type": "code",
      "source": [
        "#19 Write a Python program to train a Decision Tree Regressor on a housing dataset and evaluate using Mean Squared Error (MSE)\n",
        "# Import necessary libraries\n",
        "from sklearn.datasets import fetch_california_housing\n",
        "from sklearn.tree import DecisionTreeRegressor\n",
        "from sklearn.model_selection import train_test_split\n",
        "from sklearn.metrics import mean_squared_error\n",
        "\n",
        "# Load the California Housing dataset\n",
        "data = fetch_california_housing()\n",
        "X = data.data\n",
        "y = data.target\n",
        "\n",
        "# Split into training and testing sets (80% train, 20% test)\n",
        "X_train, X_test, y_train, y_test = train_test_split(X, y, test_size=0.2, random_state=42)\n",
        "\n",
        "# Initialize the Decision Tree Regressor\n",
        "regressor = DecisionTreeRegressor(random_state=42)\n",
        "\n",
        "# Train the model\n",
        "regressor.fit(X_train, y_train)\n",
        "\n",
        "# Predict on the test data\n",
        "y_pred = regressor.predict(X_test)\n",
        "\n",
        "# Evaluate using Mean Squared Error (MSE)\n",
        "mse = mean_squared_error(y_test, y_pred)\n",
        "print(f\"Mean Squared Error (MSE) on California Housing dataset: {mse:.4f}\")"
      ],
      "metadata": {
        "colab": {
          "base_uri": "https://localhost:8080/"
        },
        "id": "aeIriGjWIrei",
        "outputId": "8a79433c-d37b-44bb-979a-387b7c0ec98d"
      },
      "execution_count": 4,
      "outputs": [
        {
          "output_type": "stream",
          "name": "stdout",
          "text": [
            "Mean Squared Error (MSE) on California Housing dataset: 0.4952\n"
          ]
        }
      ]
    },
    {
      "cell_type": "code",
      "source": [
        "#20 Write a Python program to train a Decision Tree Classifier and visualize the tree using graphviz\n",
        "\n",
        "\n",
        "# Import required libraries\n",
        "from sklearn.datasets import load_iris\n",
        "from sklearn.tree import DecisionTreeClassifier, export_graphviz\n",
        "from sklearn.model_selection import train_test_split\n",
        "import graphviz\n",
        "\n",
        "# Load the Iris dataset\n",
        "iris = load_iris()\n",
        "X = iris.data\n",
        "y = iris.target\n",
        "feature_names = iris.feature_names\n",
        "class_names = iris.target_names\n",
        "\n",
        "# Split data into training and testing sets\n",
        "X_train, X_test, y_train, y_test = train_test_split(X, y, test_size=0.2, random_state=42)\n",
        "\n",
        "# Train a Decision Tree Classifier\n",
        "clf = DecisionTreeClassifier(max_depth=3, random_state=42)\n",
        "clf.fit(X_train, y_train)\n",
        "\n",
        "# Export the tree as DOT format\n",
        "dot_data = export_graphviz(clf,\n",
        "                           out_file=None,\n",
        "                           feature_names=feature_names,\n",
        "                           class_names=class_names,\n",
        "                           filled=True,\n",
        "                           rounded=True,\n",
        "                           special_characters=True)\n",
        "\n",
        "# Render the tree using graphviz\n",
        "graph = graphviz.Source(dot_data)\n",
        "graph.render(\"iris_tree\", format=\"png\", cleanup=True)  # Saves as 'iris_tree.png'\n",
        "graph.view()  # Opens the image viewer\n",
        "\n"
      ],
      "metadata": {
        "colab": {
          "base_uri": "https://localhost:8080/",
          "height": 35
        },
        "id": "TnAF5xA_I0za",
        "outputId": "aaa4eeda-62e1-4789-99f3-2f8a065235b4"
      },
      "execution_count": 11,
      "outputs": [
        {
          "output_type": "execute_result",
          "data": {
            "text/plain": [
              "'iris_tree.pdf'"
            ],
            "application/vnd.google.colaboratory.intrinsic+json": {
              "type": "string"
            }
          },
          "metadata": {},
          "execution_count": 11
        }
      ]
    },
    {
      "cell_type": "code",
      "source": [
        "#21 Write a Python program to train a Decision Tree Classifier with a maximum depth of 3 and compare its accuracy with a fully grown tree\n",
        "# Import necessary libraries\n",
        "from sklearn.datasets import load_iris\n",
        "from sklearn.tree import DecisionTreeClassifier\n",
        "from sklearn.model_selection import train_test_split\n",
        "from sklearn.metrics import accuracy_score\n",
        "\n",
        "# Load the Iris dataset\n",
        "iris = load_iris()\n",
        "X = iris.data\n",
        "y = iris.target\n",
        "\n",
        "# Split into train and test sets\n",
        "X_train, X_test, y_train, y_test = train_test_split(X, y, test_size=0.2, random_state=42)\n",
        "\n",
        "# Model 1: Decision Tree with max depth of 3\n",
        "clf_limited = DecisionTreeClassifier(max_depth=3, random_state=42)\n",
        "clf_limited.fit(X_train, y_train)\n",
        "y_pred_limited = clf_limited.predict(X_test)\n",
        "accuracy_limited = accuracy_score(y_test, y_pred_limited)\n",
        "\n",
        "# Model 2: Fully grown Decision Tree\n",
        "clf_full = DecisionTreeClassifier(random_state=42)\n",
        "clf_full.fit(X_train, y_train)\n",
        "y_pred_full = clf_full.predict(X_test)\n",
        "accuracy_full = accuracy_score(y_test, y_pred_full)\n",
        "\n",
        "# Print results\n",
        "print(\"Accuracy with max_depth = 3: {:.2f}\".format(accuracy_limited))\n",
        "print(\"Accuracy with fully grown tree: {:.2f}\".format(accuracy_full))"
      ],
      "metadata": {
        "colab": {
          "base_uri": "https://localhost:8080/"
        },
        "id": "gmK7-WMZJE57",
        "outputId": "0d254e90-ee72-4779-d050-0102c2440e37"
      },
      "execution_count": 10,
      "outputs": [
        {
          "output_type": "stream",
          "name": "stdout",
          "text": [
            "Accuracy with max_depth = 3: 1.00\n",
            "Accuracy with fully grown tree: 1.00\n"
          ]
        }
      ]
    },
    {
      "cell_type": "code",
      "source": [
        "#22 Write a Python program to train a Decision Tree Classifier using min_samples_split=5 and compare its accuracy with a default tree\n",
        "# Import necessary libraries\n",
        "from sklearn.datasets import load_iris\n",
        "from sklearn.tree import DecisionTreeClassifier\n",
        "from sklearn.model_selection import train_test_split\n",
        "from sklearn.metrics import accuracy_score\n",
        "\n",
        "# Load the Iris dataset\n",
        "iris = load_iris()\n",
        "X = iris.data\n",
        "y = iris.target\n",
        "\n",
        "# Split into training and testing sets\n",
        "X_train, X_test, y_train, y_test = train_test_split(X, y, test_size=0.2, random_state=42)\n",
        "\n",
        "# Model 1: Decision Tree with min_samples_split = 5\n",
        "clf_custom = DecisionTreeClassifier(min_samples_split=5, random_state=42)\n",
        "clf_custom.fit(X_train, y_train)\n",
        "y_pred_custom = clf_custom.predict(X_test)\n",
        "accuracy_custom = accuracy_score(y_test, y_pred_custom)\n",
        "\n",
        "# Model 2: Default Decision Tree\n",
        "clf_default = DecisionTreeClassifier(random_state=42)\n",
        "clf_default.fit(X_train, y_train)\n",
        "y_pred_default = clf_default.predict(X_test)\n",
        "accuracy_default = accuracy_score(y_test, y_pred_default)\n",
        "\n",
        "# Print accuracy comparison\n",
        "print(\"Accuracy with min_samples_split=5: {:.2f}\".format(accuracy_custom))\n",
        "print(\"Accuracy with default settings   : {:.2f}\".format(accuracy_default))"
      ],
      "metadata": {
        "colab": {
          "base_uri": "https://localhost:8080/"
        },
        "id": "BpW0tJdDJG07",
        "outputId": "4e0068a9-4864-48d8-a012-c77a986e801c"
      },
      "execution_count": 12,
      "outputs": [
        {
          "output_type": "stream",
          "name": "stdout",
          "text": [
            "Accuracy with min_samples_split=5: 1.00\n",
            "Accuracy with default settings   : 1.00\n"
          ]
        }
      ]
    },
    {
      "cell_type": "code",
      "source": [
        "#23 Write a Python program to apply feature scaling before training a Decision Tree Classifier and compare its accuracy with unscaled data\n",
        "# Import necessary libraries\n",
        "from sklearn.datasets import load_iris\n",
        "from sklearn.tree import DecisionTreeClassifier\n",
        "from sklearn.preprocessing import StandardScaler\n",
        "from sklearn.model_selection import train_test_split\n",
        "from sklearn.metrics import accuracy_score\n",
        "\n",
        "# Load the Iris dataset\n",
        "iris = load_iris()\n",
        "X = iris.data\n",
        "y = iris.target\n",
        "\n",
        "# Split the dataset into training and testing sets\n",
        "X_train, X_test, y_train, y_test = train_test_split(\n",
        "    X, y, test_size=0.2, random_state=42)\n",
        "\n",
        "# ---------- Train on Unscaled Data ----------\n",
        "clf_unscaled = DecisionTreeClassifier(random_state=42)\n",
        "clf_unscaled.fit(X_train, y_train)\n",
        "y_pred_unscaled = clf_unscaled.predict(X_test)\n",
        "accuracy_unscaled = accuracy_score(y_test, y_pred_unscaled)\n",
        "\n",
        "# ---------- Train on Scaled Data ----------\n",
        "scaler = StandardScaler()\n",
        "X_train_scaled = scaler.fit_transform(X_train)\n",
        "X_test_scaled = scaler.transform(X_test)\n",
        "\n",
        "clf_scaled = DecisionTreeClassifier(random_state=42)\n",
        "clf_scaled.fit(X_train_scaled, y_train)\n",
        "y_pred_scaled = clf_scaled.predict(X_test_scaled)\n",
        "accuracy_scaled = accuracy_score(y_test, y_pred_scaled)\n",
        "\n",
        "# ---------- Output Accuracy Comparison ----------\n",
        "print(f\"Accuracy with unscaled data: {accuracy_unscaled:.2f}\")\n",
        "print(f\"Accuracy with scaled data  : {accuracy_scaled:.2f}\")"
      ],
      "metadata": {
        "colab": {
          "base_uri": "https://localhost:8080/"
        },
        "id": "DG6NdoovJKQs",
        "outputId": "3d78264c-62b1-4386-bad0-1c24a2324770"
      },
      "execution_count": 13,
      "outputs": [
        {
          "output_type": "stream",
          "name": "stdout",
          "text": [
            "Accuracy with unscaled data: 1.00\n",
            "Accuracy with scaled data  : 1.00\n"
          ]
        }
      ]
    },
    {
      "cell_type": "code",
      "source": [
        "#24 Write a Python program to train a Decision Tree Classifier using One-vs-Rest (OvR) strategy for multiclass classification\n",
        "# Import necessary libraries\n",
        "from sklearn.datasets import load_iris\n",
        "from sklearn.tree import DecisionTreeClassifier\n",
        "from sklearn.multiclass import OneVsRestClassifier\n",
        "from sklearn.model_selection import train_test_split\n",
        "from sklearn.metrics import accuracy_score\n",
        "\n",
        "# Load the Iris dataset\n",
        "iris = load_iris()\n",
        "X = iris.data\n",
        "y = iris.target\n",
        "\n",
        "# Split dataset into training and testing sets\n",
        "X_train, X_test, y_train, y_test = train_test_split(\n",
        "    X, y, test_size=0.2, random_state=42)\n",
        "\n",
        "# Wrap DecisionTreeClassifier inside OneVsRestClassifier\n",
        "ovr_model = OneVsRestClassifier(DecisionTreeClassifier(random_state=42))\n",
        "\n",
        "# Train the model\n",
        "ovr_model.fit(X_train, y_train)\n",
        "\n",
        "# Make predictions\n",
        "y_pred = ovr_model.predict(X_test)\n",
        "\n",
        "# Calculate and print accuracy\n",
        "accuracy = accuracy_score(y_test, y_pred)\n",
        "print(f\"Accuracy using One-vs-Rest with Decision Tree: {accuracy:.2f}\")"
      ],
      "metadata": {
        "colab": {
          "base_uri": "https://localhost:8080/"
        },
        "id": "bEi6-7Y5JN7a",
        "outputId": "ef3d6bab-46e8-43a3-a21b-6e006b0a9d71"
      },
      "execution_count": 14,
      "outputs": [
        {
          "output_type": "stream",
          "name": "stdout",
          "text": [
            "Accuracy using One-vs-Rest with Decision Tree: 1.00\n"
          ]
        }
      ]
    },
    {
      "cell_type": "code",
      "source": [
        "#25  Write a Python program to train a Decision Tree Classifier and display the feature importance scores\n",
        "# Import necessary libraries\n",
        "from sklearn.datasets import load_iris\n",
        "from sklearn.tree import DecisionTreeClassifier\n",
        "from sklearn.model_selection import train_test_split\n",
        "\n",
        "# Load the Iris dataset\n",
        "iris = load_iris()\n",
        "X = iris.data\n",
        "y = iris.target\n",
        "feature_names = iris.feature_names\n",
        "\n",
        "# Split the dataset into training and testing sets\n",
        "X_train, X_test, y_train, y_test = train_test_split(\n",
        "    X, y, test_size=0.2, random_state=42)\n",
        "\n",
        "# Initialize and train the Decision Tree Classifier\n",
        "clf = DecisionTreeClassifier(random_state=42)\n",
        "clf.fit(X_train, y_train)\n",
        "\n",
        "# Get feature importance scores\n",
        "importances = clf.feature_importances_\n",
        "\n",
        "# Display feature importance\n",
        "print(\"Feature Importance Scores:\")\n",
        "for name, score in zip(feature_names, importances):\n",
        "    print(f\"{name}: {score:.4f}\")"
      ],
      "metadata": {
        "colab": {
          "base_uri": "https://localhost:8080/"
        },
        "id": "bGZxQsihJUj5",
        "outputId": "9397198a-cc6e-4501-a716-419c1fca4c0f"
      },
      "execution_count": 15,
      "outputs": [
        {
          "output_type": "stream",
          "name": "stdout",
          "text": [
            "Feature Importance Scores:\n",
            "sepal length (cm): 0.0000\n",
            "sepal width (cm): 0.0167\n",
            "petal length (cm): 0.9061\n",
            "petal width (cm): 0.0772\n"
          ]
        }
      ]
    },
    {
      "cell_type": "code",
      "source": [
        "#26 Write a Python program to train a Decision Tree Regressor with max_depth=5 and compare its performance with an unrestricted tree\n",
        "# Import necessary libraries\n",
        "from sklearn.datasets import fetch_california_housing\n",
        "from sklearn.tree import DecisionTreeRegressor\n",
        "from sklearn.model_selection import train_test_split\n",
        "from sklearn.metrics import mean_squared_error\n",
        "\n",
        "# Load the California Housing dataset\n",
        "data = fetch_california_housing()\n",
        "X = data.data\n",
        "y = data.target\n",
        "\n",
        "# Split the dataset into training and testing sets\n",
        "X_train, X_test, y_train, y_test = train_test_split(\n",
        "    X, y, test_size=0.2, random_state=42)\n",
        "\n",
        "# Model 1: Decision Tree Regressor with max_depth=5\n",
        "reg_limited = DecisionTreeRegressor(max_depth=5, random_state=42)\n",
        "reg_limited.fit(X_train, y_train)\n",
        "y_pred_limited = reg_limited.predict(X_test)\n",
        "mse_limited = mean_squared_error(y_test, y_pred_limited)\n",
        "\n",
        "# Model 2: Fully grown Decision Tree Regressor (no depth limit)\n",
        "reg_full = DecisionTreeRegressor(random_state=42)\n",
        "reg_full.fit(X_train, y_train)\n",
        "y_pred_full = reg_full.predict(X_test)\n",
        "mse_full = mean_squared_error(y_test, y_pred_full)\n",
        "\n",
        "# Print the comparison\n",
        "print(\"Mean Squared Error with max_depth=5    :\", round(mse_limited, 4))\n",
        "print(\"Mean Squared Error with full-depth tree:\", round(mse_full, 4))"
      ],
      "metadata": {
        "colab": {
          "base_uri": "https://localhost:8080/"
        },
        "id": "Y1eg2SzVJVuT",
        "outputId": "b34f25e8-6499-41f1-a23b-ba989be1c37e"
      },
      "execution_count": 16,
      "outputs": [
        {
          "output_type": "stream",
          "name": "stdout",
          "text": [
            "Mean Squared Error with max_depth=5    : 0.5245\n",
            "Mean Squared Error with full-depth tree: 0.4952\n"
          ]
        }
      ]
    },
    {
      "cell_type": "code",
      "source": [
        "#27 Write a Python program to train a Decision Tree Classifier, apply Cost Complexity Pruning (CCP), and visualize its effect on accuracy\n",
        "# Import necessary libraries\n",
        "from sklearn.datasets import load_iris\n",
        "from sklearn.tree import DecisionTreeClassifier\n",
        "from sklearn.model_selection import train_test_split\n",
        "from sklearn.metrics import accuracy_score\n",
        "import matplotlib.pyplot as plt\n",
        "\n",
        "# Load the Iris dataset\n",
        "iris = load_iris()\n",
        "X = iris.data\n",
        "y = iris.target\n",
        "\n",
        "# Split dataset into training and test sets\n",
        "X_train, X_test, y_train, y_test = train_test_split(\n",
        "    X, y, test_size=0.2, random_state=42)\n",
        "\n",
        "# Train an initial tree to get effective alphas for pruning\n",
        "clf = DecisionTreeClassifier(random_state=42)\n",
        "path = clf.cost_complexity_pruning_path(X_train, y_train)\n",
        "ccp_alphas = path.ccp_alphas[:-1]  # Remove the maximum alpha that prunes all leaves\n",
        "\n",
        "# Train models for each ccp_alpha\n",
        "clfs = []\n",
        "for ccp_alpha in ccp_alphas:\n",
        "    clf = DecisionTreeClassifier(random_state=42, ccp_alpha=ccp_alpha)\n",
        "    clf.fit(X_train, y_train)\n",
        "    clfs.append(clf)\n",
        "\n",
        "# Evaluate accuracy for each model\n",
        "train_acc = [clf.score(X_train, y_train) for clf in clfs]\n",
        "test_acc = [clf.score(X_test, y_test) for clf in clfs]\n",
        "\n",
        "# Plot accuracy vs. ccp_alpha\n",
        "plt.figure(figsize=(8, 5))\n",
        "plt.plot(ccp_alphas, train_acc, marker='o', label='Train Accuracy', color='blue')\n",
        "plt.plot(ccp_alphas, test_acc, marker='o', label='Test Accuracy', color='green')\n",
        "plt.xlabel(\"ccp_alpha\")\n",
        "plt.ylabel(\"Accuracy\")\n",
        "plt.title(\"Effect of CCP Alpha on Decision Tree Accuracy\")\n",
        "plt.legend()\n",
        "plt.grid(True)\n",
        "plt.tight_layout()\n",
        "plt.show()"
      ],
      "metadata": {
        "colab": {
          "base_uri": "https://localhost:8080/",
          "height": 507
        },
        "id": "c5bs_iVuJY41",
        "outputId": "45c7ce79-754a-4377-9eae-8ff99e0f72c6"
      },
      "execution_count": 17,
      "outputs": [
        {
          "output_type": "display_data",
          "data": {
            "text/plain": [
              "<Figure size 800x500 with 1 Axes>"
            ],
            "image/png": "[encoded data removed]"
          },
          "metadata": {}
        }
      ]
    },
    {
      "cell_type": "code",
      "source": [
        "#28 Write a Python program to train a Decision Tree Classifier and evaluate its performance using Precision, Recall, and F1-Score\n",
        "# Import required libraries\n",
        "from sklearn.datasets import load_iris\n",
        "from sklearn.tree import DecisionTreeClassifier\n",
        "from sklearn.model_selection import train_test_split\n",
        "from sklearn.metrics import precision_score, recall_score, f1_score, classification_report\n",
        "\n",
        "# Load the Iris dataset\n",
        "iris = load_iris()\n",
        "X = iris.data\n",
        "y = iris.target\n",
        "\n",
        "# Split the dataset into training and testing sets\n",
        "X_train, X_test, y_train, y_test = train_test_split(\n",
        "    X, y, test_size=0.2, random_state=42)\n",
        "\n",
        "# Train a Decision Tree Classifier\n",
        "clf = DecisionTreeClassifier(random_state=42)\n",
        "clf.fit(X_train, y_train)\n",
        "\n",
        "# Make predictions\n",
        "y_pred = clf.predict(X_test)\n",
        "\n",
        "# Evaluate the model\n",
        "precision = precision_score(y_test, y_pred, average='macro')\n",
        "recall = recall_score(y_test, y_pred, average='macro')\n",
        "f1 = f1_score(y_test, y_pred, average='macro')\n",
        "\n",
        "# Print the results\n",
        "print(f\"Precision (macro-average): {precision:.2f}\")\n",
        "print(f\"Recall (macro-average)   : {recall:.2f}\")\n",
        "print(f\"F1-Score (macro-average) : {f1:.2f}\")\n",
        "\n",
        "# Optional: Print detailed classification report\n",
        "print(\"\\nDetailed Classification Report:\")\n",
        "print(classification_report(y_test, y_pred, target_names=iris.target_names))"
      ],
      "metadata": {
        "colab": {
          "base_uri": "https://localhost:8080/"
        },
        "id": "dtggy1hJJdi_",
        "outputId": "c095c570-66a7-4812-e583-9dcf7628ea90"
      },
      "execution_count": 18,
      "outputs": [
        {
          "output_type": "stream",
          "name": "stdout",
          "text": [
            "Precision (macro-average): 1.00\n",
            "Recall (macro-average)   : 1.00\n",
            "F1-Score (macro-average) : 1.00\n",
            "\n",
            "Detailed Classification Report:\n",
            "              precision    recall  f1-score   support\n",
            "\n",
            "      setosa       1.00      1.00      1.00        10\n",
            "  versicolor       1.00      1.00      1.00         9\n",
            "   virginica       1.00      1.00      1.00        11\n",
            "\n",
            "    accuracy                           1.00        30\n",
            "   macro avg       1.00      1.00      1.00        30\n",
            "weighted avg       1.00      1.00      1.00        30\n",
            "\n"
          ]
        }
      ]
    },
    {
      "cell_type": "code",
      "source": [
        "#29 Write a Python program to train a Decision Tree Classifier and visualize the confusion matrix using seaborn\n",
        "# Import necessary libraries\n",
        "from sklearn.datasets import load_iris\n",
        "from sklearn.tree import DecisionTreeClassifier\n",
        "from sklearn.model_selection import train_test_split\n",
        "from sklearn.metrics import confusion_matrix\n",
        "import seaborn as sns\n",
        "import matplotlib.pyplot as plt\n",
        "\n",
        "# Load the Iris dataset\n",
        "iris = load_iris()\n",
        "X = iris.data\n",
        "y = iris.target\n",
        "class_names = iris.target_names\n",
        "\n",
        "# Split dataset into training and testing sets\n",
        "X_train, X_test, y_train, y_test = train_test_split(\n",
        "    X, y, test_size=0.2, random_state=42)\n",
        "\n",
        "# Train a Decision Tree Classifier\n",
        "clf = DecisionTreeClassifier(random_state=42)\n",
        "clf.fit(X_train, y_train)\n",
        "\n",
        "# Make predictions\n",
        "y_pred = clf.predict(X_test)\n",
        "\n",
        "# Generate confusion matrix\n",
        "cm = confusion_matrix(y_test, y_pred)\n",
        "\n",
        "# Visualize confusion matrix using seaborn\n",
        "plt.figure(figsize=(6, 4))\n",
        "sns.heatmap(cm, annot=True, fmt='d', cmap='Blues',\n",
        "            xticklabels=class_names,\n",
        "            yticklabels=class_names)\n",
        "plt.xlabel(\"Predicted Labels\")\n",
        "plt.ylabel(\"True Labels\")\n",
        "plt.title(\"Confusion Matrix of Decision Tree Classifier\")\n",
        "plt.tight_layout()\n",
        "plt.show()\n"
      ],
      "metadata": {
        "colab": {
          "base_uri": "https://localhost:8080/",
          "height": 407
        },
        "id": "bdV3rjAmJhWC",
        "outputId": "6a0d5c10-7069-441e-fb29-21c2797605fc"
      },
      "execution_count": 19,
      "outputs": [
        {
          "output_type": "display_data",
          "data": {
            "text/plain": [
              "<Figure size 600x400 with 2 Axes>"
            ],
            "image/png": "[encoded data removed]"
          },
          "metadata": {}
        }
      ]
    },
    {
      "cell_type": "code",
      "source": [
        "#30 Write a Python program to train a Decision Tree Classifier and use GridSearchCV to find the optimal values for max_depth and min_samples_split\n",
        "# Import necessary libraries\n",
        "from sklearn.datasets import load_iris\n",
        "from sklearn.tree import DecisionTreeClassifier\n",
        "from sklearn.model_selection import GridSearchCV, train_test_split\n",
        "from sklearn.metrics import accuracy_score\n",
        "\n",
        "# Load the Iris dataset\n",
        "iris = load_iris()\n",
        "X = iris.data\n",
        "y = iris.target\n",
        "\n",
        "# Split the data into train and test sets\n",
        "X_train, X_test, y_train, y_test = train_test_split(X, y, test_size=0.2, random_state=42)\n",
        "\n",
        "# Initialize the Decision Tree Classifier\n",
        "clf = DecisionTreeClassifier(random_state=42)\n",
        "\n",
        "# Define the parameter grid\n",
        "param_grid = {\n",
        "    'max_depth': [2, 3, 4, 5, None],\n",
        "    'min_samples_split': [2, 4, 6, 8]\n",
        "}\n",
        "\n",
        "# Set up GridSearchCV\n",
        "grid_search = GridSearchCV(estimator=clf, param_grid=param_grid, cv=5, scoring='accuracy')\n",
        "\n",
        "# Fit GridSearch to the training data\n",
        "grid_search.fit(X_train, y_train)\n",
        "\n",
        "# Print the best parameters and best score\n",
        "print(\"Best Parameters found by GridSearchCV:\")\n",
        "print(grid_search.best_params_)\n",
        "\n",
        "# Use the best estimator to predict on the test set\n",
        "best_model = grid_search.best_estimator_\n",
        "y_pred = best_model.predict(X_test)\n",
        "\n",
        "# Evaluate the model\n",
        "accuracy = accuracy_score(y_test, y_pred)\n",
        "print(f\"Test Accuracy with Best Parameters: {accuracy:.2f}\")"
      ],
      "metadata": {
        "colab": {
          "base_uri": "https://localhost:8080/"
        },
        "id": "GN9TPXw5JkNz",
        "outputId": "ccac83b2-3497-45c8-c9a9-bca33fbec3e6"
      },
      "execution_count": 8,
      "outputs": [
        {
          "output_type": "stream",
          "name": "stdout",
          "text": [
            "Best Parameters found by GridSearchCV:\n",
            "{'max_depth': 4, 'min_samples_split': 2}\n",
            "Test Accuracy with Best Parameters: 1.00\n"
          ]
        }
      ]
    },
    {
      "cell_type": "code",
      "source": [],
      "metadata": {
        "id": "RMixOEU6J2mZ"
      },
      "execution_count": null,
      "outputs": []
    }
  ]
}